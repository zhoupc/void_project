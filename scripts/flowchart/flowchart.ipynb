{
 "cells": [
  {
   "cell_type": "code",
   "execution_count": 32,
   "metadata": {},
   "outputs": [
    {
     "name": "stdout",
     "output_type": "stream",
     "text": [
      "The flowchart will be saved into folder \n",
      "\t/Users/zhoupc/Google/projects/reproducible_research/Figures/flowchart\n"
     ]
    }
   ],
   "source": [
    "import os \n",
    "dir_figure = os.path.abspath(os.getcwd()+'../../../Figures/flowchart')\n",
    "\n",
    "if not os.path.exists(dir_figure):  \n",
    "    os.mkdir(dir_figure)\n",
    "    print('create a folder for saving the flowchart')\n",
    "\n",
    "print('The flowchart will be saved into folder \\n\\t%s' %(dir_figure))\n",
    "\n",
    "figure_formats = ('png', 'pdf')"
   ]
  },
  {
   "cell_type": "code",
   "execution_count": 34,
   "metadata": {},
   "outputs": [],
   "source": [
    "from graphviz import Digraph \n",
    "\n",
    "dot = Digraph(comment='The Round Table')\n",
    "\n",
    "dot.attr('node', shape='box')\n",
    "\n",
    "dot.node('D', 'Data', shape='box')\n",
    "dot.node('P', 'Packages', shape='box')\n",
    "dot.node('S', 'Scripts', shape='box')\n",
    "dot.edge('D', 'S')\n",
    "dot.edge('P', 'S')\n",
    "\n",
    "dot.node('F', 'individual figures', shape='box')\n",
    "dot.node('V', 'Videos', shape='box')\n",
    "dot.edge('S', 'F', )\n",
    "dot.edge('S', 'V')\n",
    "\n",
    "dot.node('SF', 'publication-quality figures (Latex/AI)', shape='box')\n",
    "dot.edge('F', 'SF')\n",
    "\n",
    "dot.node('M', 'Manuscript (Latex/MS Word)', shape='box')\n",
    "dot.edge('SF', 'M')\n",
    "dot.edge('V', 'M')\n",
    "\n",
    "\n",
    "for item in figure_formats: \n",
    "    dot.format = item \n",
    "    dot.render(os.path.join(dir_figure, 'pipeline'),\n",
    "           view=True)"
   ]
  },
  {
   "cell_type": "code",
   "execution_count": null,
   "metadata": {},
   "outputs": [],
   "source": []
  }
 ],
 "metadata": {
  "kernelspec": {
   "display_name": "Python 3",
   "language": "python",
   "name": "python3"
  },
  "language_info": {
   "codemirror_mode": {
    "name": "ipython",
    "version": 3
   },
   "file_extension": ".py",
   "mimetype": "text/x-python",
   "name": "python",
   "nbconvert_exporter": "python",
   "pygments_lexer": "ipython3",
   "version": "3.6.5"
  }
 },
 "nbformat": 4,
 "nbformat_minor": 2
}
